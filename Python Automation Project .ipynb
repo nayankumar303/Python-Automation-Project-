{
 "cells": [
  {
   "cell_type": "code",
   "execution_count": null,
   "id": "1287cab5",
   "metadata": {},
   "outputs": [],
   "source": [
    "import pyttsx3\n",
    "import speech_recognition as sr\n",
    "import datetime \n",
    "import wikipedia \n",
    "import webbrowser \n",
    "import os\n",
    "import smtplib \n",
    "\n",
    "engine = pyttsx3.init('sapi5')\n",
    "voices = engine.getProperty('voices')\n",
    "engine.setProperty('voice',voices[1].id)\n",
    "\n",
    "def speak (audio):\n",
    "    engine.say(audio)\n",
    "    engine.runAndWait()\n",
    "\n",
    "    \n",
    "def wishme():\n",
    "    hour= int (datetime.datetime.now().hour)\n",
    "    if hour >=0 and hour<=12 :\n",
    "        speak('Good morning my dear friend')\n",
    "    elif hour>=12 and hour <18 :\n",
    "        speak('Good afternoon my dear friend')\n",
    "    else :\n",
    "        speak('Good evening my dear friend')\n",
    "    speak(\"Let me know how can I help you , what are you looking for ?\")\n",
    "        \n",
    "def takecommand():  \n",
    "    r=sr.Recognizer()\n",
    "    with sr.Microphone()as source:\n",
    "        print(\"Listening to you Nayan.....\")\n",
    "        r.pause_threshold=1 \n",
    "        audio = r.listen(source)\n",
    "    try :\n",
    "        print(\"Recognizing your voice...\")\n",
    "        query = r.recognize_google(audio,language='en-in')\n",
    "        print(f'My dear friend you said:{query}\\n')\n",
    "    except Exception as e :\n",
    "        print('Nayan say that again please .....')\n",
    "        return \"None\"\n",
    "    return query \n",
    "\n",
    "def sendEmail(to,content):\n",
    "    server =smtplib.SMTP('smtp.gmail.com',587)\n",
    "    server.ehlo()\n",
    "    server.starttls()\n",
    "    server.login('20bsm036@iiitdmj.ac.in','nayan036&#')\n",
    "    server.sendmail('20bsm036@iiitdmj.ac.in',to,content)\n",
    "    server.close()\n",
    "    \n",
    "    \n",
    "if __name__ == \"__main__\":\n",
    "    wishme()\n",
    "    while True:\n",
    "        query=takecommand().lower()\n",
    "        if \"open wikipedia \" in query :\n",
    "            speak(\"Searching wikipedia...\")\n",
    "            query=query.replace(\"wikipedia\",\"\")\n",
    "            results=wikipedia.summary(query,sentences=2)\n",
    "            speak(\"According to wikipedia\")\n",
    "            print (results)\n",
    "            speak(results)\n",
    "        elif 'open notepad' in query :\n",
    "            npath = \"C:\\windows\\system32\\notepad.exe\"\n",
    "            os.startfile(npath)\n",
    "        elif 'open paint' in query :\n",
    "            npath = \"C:\\windows\\system32\\mspaint.exe \"\n",
    "            os.startfile(npath)\n",
    "        elif 'open YouTube ' in query :\n",
    "            webbrowser.open(\"youtube.com\")\n",
    "        elif 'open Great learning academy' in query :\n",
    "            webbrowser.open(\"https://www.mygreatlearning.com/academy\")\n",
    "        elif 'open google' in query :\n",
    "            webbrowser.open(\"google.com\")\n",
    "        elif 'open great learning youtube channel' in query :\n",
    "            webbrowser.open(\"https://www.youtube.com/@greatlearning\")\n",
    "        elif 'open LinkedIn' in query :\n",
    "            webbrowser.open(\"www.linkedin.com\")\n",
    "        elif 'tell me the time ' in query :\n",
    "            current_time =datetime.datetime.now().strftime(\"%H:%M:%S\")\n",
    "            speak(f'my dear friend, the time is {current_time}')\n",
    "        elif ' email to another friend ' in query :\n",
    "                  try :\n",
    "                      speak(\"what should I send?\")\n",
    "                      content= takecommand()\n",
    "                      to = \"bhalavi3nayan@gmail.com\"\n",
    "                      sendEmail(to, content)\n",
    "                      speak(\"Your email has been sent successfully\")\n",
    "                  except Exception as e :\n",
    "                      print(e)\n",
    "                      speak(\" My dear friend .... I am unable to send the email...\", \" Please address the error\")\n",
    "        \n",
    "            \n",
    "        \n",
    "        \n",
    "        "
   ]
  },
  {
   "cell_type": "code",
   "execution_count": null,
   "id": "c59c7682",
   "metadata": {},
   "outputs": [],
   "source": [
    "pip install pyttsx3"
   ]
  },
  {
   "cell_type": "code",
   "execution_count": 10,
   "id": "d182787e",
   "metadata": {},
   "outputs": [
    {
     "name": "stdout",
     "output_type": "stream",
     "text": [
      "Defaulting to user installation because normal site-packages is not writeable\n",
      "Collecting speechRecognition\n",
      "  Using cached SpeechRecognition-3.9.0-py2.py3-none-any.whl (32.8 MB)\n",
      "Requirement already satisfied: requests>=2.26.0 in d:\\anaconda\\lib\\site-packages (from speechRecognition) (2.27.1)\n",
      "Requirement already satisfied: certifi>=2017.4.17 in d:\\anaconda\\lib\\site-packages (from requests>=2.26.0->speechRecognition) (2021.10.8)\n",
      "Requirement already satisfied: charset-normalizer~=2.0.0 in d:\\anaconda\\lib\\site-packages (from requests>=2.26.0->speechRecognition) (2.0.4)\n",
      "Requirement already satisfied: idna<4,>=2.5 in d:\\anaconda\\lib\\site-packages (from requests>=2.26.0->speechRecognition) (3.3)\n",
      "Requirement already satisfied: urllib3<1.27,>=1.21.1 in d:\\anaconda\\lib\\site-packages (from requests>=2.26.0->speechRecognition) (1.26.9)\n",
      "Installing collected packages: speechRecognition\n",
      "Successfully installed speechRecognition-3.9.0\n",
      "Note: you may need to restart the kernel to use updated packages.\n"
     ]
    }
   ],
   "source": [
    "pip install speechRecognition"
   ]
  },
  {
   "cell_type": "code",
   "execution_count": 11,
   "id": "4cea212e",
   "metadata": {},
   "outputs": [
    {
     "name": "stdout",
     "output_type": "stream",
     "text": [
      "Defaulting to user installation because normal site-packages is not writeable\n",
      "Collecting wikipedia\n",
      "  Using cached wikipedia-1.4.0.tar.gz (27 kB)\n",
      "Requirement already satisfied: beautifulsoup4 in d:\\anaconda\\lib\\site-packages (from wikipedia) (4.11.1)\n",
      "Requirement already satisfied: requests<3.0.0,>=2.0.0 in d:\\anaconda\\lib\\site-packages (from wikipedia) (2.27.1)\n",
      "Requirement already satisfied: urllib3<1.27,>=1.21.1 in d:\\anaconda\\lib\\site-packages (from requests<3.0.0,>=2.0.0->wikipedia) (1.26.9)\n",
      "Requirement already satisfied: certifi>=2017.4.17 in d:\\anaconda\\lib\\site-packages (from requests<3.0.0,>=2.0.0->wikipedia) (2021.10.8)\n",
      "Requirement already satisfied: idna<4,>=2.5 in d:\\anaconda\\lib\\site-packages (from requests<3.0.0,>=2.0.0->wikipedia) (3.3)\n",
      "Requirement already satisfied: charset-normalizer~=2.0.0 in d:\\anaconda\\lib\\site-packages (from requests<3.0.0,>=2.0.0->wikipedia) (2.0.4)\n",
      "Requirement already satisfied: soupsieve>1.2 in d:\\anaconda\\lib\\site-packages (from beautifulsoup4->wikipedia) (2.3.1)\n",
      "Building wheels for collected packages: wikipedia\n",
      "  Building wheel for wikipedia (setup.py): started\n",
      "  Building wheel for wikipedia (setup.py): finished with status 'done'\n",
      "  Created wheel for wikipedia: filename=wikipedia-1.4.0-py3-none-any.whl size=11695 sha256=847af9ad860083e5458fbd87bf33fea2c77867ffa4240c1d207a22191201a4aa\n",
      "  Stored in directory: c:\\users\\hp\\appdata\\local\\pip\\cache\\wheels\\c2\\46\\f4\\caa1bee71096d7b0cdca2f2a2af45cacf35c5760bee8f00948\n",
      "Successfully built wikipedia\n",
      "Installing collected packages: wikipedia\n",
      "Successfully installed wikipedia-1.4.0\n",
      "Note: you may need to restart the kernel to use updated packages.\n"
     ]
    }
   ],
   "source": [
    "pip  install wikipedia "
   ]
  },
  {
   "cell_type": "code",
   "execution_count": 13,
   "id": "2dcf1ef9",
   "metadata": {},
   "outputs": [
    {
     "name": "stdout",
     "output_type": "stream",
     "text": [
      "Defaulting to user installation because normal site-packages is not writeableNote: you may need to restart the kernel to use updated packages.\n",
      "Collecting pyaudio\n",
      "  Downloading PyAudio-0.2.12-cp39-cp39-win_amd64.whl (163 kB)\n",
      "Installing collected packages: pyaudio\n",
      "Successfully installed pyaudio-0.2.12\n",
      "\n"
     ]
    }
   ],
   "source": [
    "pip install pyaudio "
   ]
  },
  {
   "cell_type": "code",
   "execution_count": null,
   "id": "568c9cfc",
   "metadata": {},
   "outputs": [],
   "source": []
  }
 ],
 "metadata": {
  "kernelspec": {
   "display_name": "Python 3 (ipykernel)",
   "language": "python",
   "name": "python3"
  },
  "language_info": {
   "codemirror_mode": {
    "name": "ipython",
    "version": 3
   },
   "file_extension": ".py",
   "mimetype": "text/x-python",
   "name": "python",
   "nbconvert_exporter": "python",
   "pygments_lexer": "ipython3",
   "version": "3.9.12"
  }
 },
 "nbformat": 4,
 "nbformat_minor": 5
}
